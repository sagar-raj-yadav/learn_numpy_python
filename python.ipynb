{
 "cells": [
  {
   "cell_type": "code",
   "execution_count": 15,
   "metadata": {},
   "outputs": [
    {
     "name": "stdout",
     "output_type": "stream",
     "text": [
      "4\n",
      "['orange', 34.6, False, 'watermelon', 'sagar']\n"
     ]
    }
   ],
   "source": [
    "## LIST\n",
    "#List Allow Duplicates, List can store different data types\n",
    "\n",
    "mylist = [\"apple\",13,False ,\"cherry\",34.6]\n",
    "len(mylist)\n",
    "mylist[1]=\"sagar\"   #['apple', 'sagar', False, 'cherry', 34.6]\n",
    "\n",
    "mylist.insert(2, \"watermelon\") #['apple', 'sagar', 'watermelon', False, 'cherry', 34.6]\n",
    "\n",
    "mylist.append(\"orange\") #add at end  -> ['apple', 'sagar', 'watermelon', False, 'cherry', 34.6, 'orange']\n",
    "\n",
    "mylist.remove(\"cherry\")  #['apple', 'sagar', 'watermelon', False, 34.6, 'orange']\n",
    "print(mylist.index(34.6))   # 4\n",
    "print (mylist.count(34.6))  #1  -> ist me kisi element ki occurrence count karta hai.\n",
    "\n",
    "mylist.pop(0)  #removes from specified index in list\n",
    "# mylist.sort()  #sort karne ke liye list me same data type hona chahiye \n",
    "#mylist.clear()  #remove all element from list\n",
    "mylist.reverse() #reverse the list\n",
    "print(mylist) # ['orange', 34.6, False, 'watermelon', 'sagar']"
   ]
  },
  {
   "cell_type": "code",
   "execution_count": 18,
   "metadata": {},
   "outputs": [
    {
     "name": "stdout",
     "output_type": "stream",
     "text": [
      "['apple', 'banana', 'cherry', 'kiwi']\n",
      "['kiwi', 'apple', 'banana', 'cherry']\n"
     ]
    }
   ],
   "source": [
    "#sorting\n",
    "#i.\n",
    "list2 = ['apple', 'banana', 'cherry', 'kiwi']\n",
    "list2.sort()  # Sorting based on ASCII value\n",
    "print(list2)  # Output: ['apple', 'banana', 'cherry', 'kiwi']\n",
    "\n",
    "#ii.\n",
    "list2.sort(key=len)  # Sorting based on string length\n",
    "print(list2)  # Output: ['kiwi', 'apple', 'banana', 'cherry']"
   ]
  },
  {
   "cell_type": "code",
   "execution_count": 26,
   "metadata": {},
   "outputs": [
    {
     "name": "stdout",
     "output_type": "stream",
     "text": [
      "2\n",
      "1\n",
      "(2, 'yadav', False)\n",
      "True\n",
      "3\n",
      "1\n"
     ]
    }
   ],
   "source": [
    "## TUPLES\n",
    "# i.Ek baar tuple create hone ke baad, usme koi bhi changes nahi kiye ja sakte. \n",
    "# Aap elements ko modify, add, ya remove nahi kar sakte.\n",
    "\n",
    "#same as LIST\n",
    "\n",
    "tuple1=(1,2,\"yadav\",False,4.2,1,3,1)\n",
    "print(tuple1[1])  # 2 ->1th index\n",
    "print(tuple1[-1]) #last se 0th index\n",
    "print(tuple1[1:4]) #[2,\"yadav\",False]\n",
    "\n",
    "print(4.2 in tuple1)  #  True  ->check if 4.2 exist in tuple1 or not\n",
    "\n",
    "print(tuple1.count(1)) # 3 ->count the occurrence of 1 in tuple1\n",
    "print(tuple1.index(2)) # 1 ->index of value 2 in tuple1"
   ]
  },
  {
   "cell_type": "code",
   "execution_count": 45,
   "metadata": {},
   "outputs": [
    {
     "name": "stdout",
     "output_type": "stream",
     "text": [
      "False\n",
      "{1, 34, 2, 6, 'b'}\n",
      "{1, 2, 3, 4, 5}\n",
      "{3}\n",
      "{1, 2}\n",
      "{1, 2, 4, 5}\n"
     ]
    }
   ],
   "source": [
    "## SET\n",
    "# unique elements , Sets mein elements ko index se access nahi kiya ja sakta,\n",
    "\n",
    "#same as LIST\n",
    "set3={1,34,5,\"b\",2}\n",
    "set3.add(6) #add  element at end  {1, 34, 2, 5, 6, 'b'}\n",
    "set3.remove(5)  # {1, 34, 2, 'b'}\n",
    "print(\"c\" in set3) # False\n",
    "\n",
    "print(set3)\n",
    "\n",
    "\n",
    "## union \n",
    "set1 = {1, 2, 3}\n",
    "set2 = {3, 4, 5}\n",
    "union_set = set1.union(set2)\n",
    "print(union_set)  # {1, 2, 3, 4, 5}\n",
    "\n",
    "#intersection\n",
    "intersection_set=set1.intersection(set2)\n",
    "print(intersection_set)  # {3}\n",
    "\n",
    "#set difference\n",
    "difference_set = set1 - set2\n",
    "print(difference_set)  # {1, 2}\n",
    "\n",
    "#symmetric difference\n",
    "sym_diff_set = set1.symmetric_difference(set2)\n",
    "print(sym_diff_set)  # {1, 2, 4, 5}"
   ]
  },
  {
   "cell_type": "code",
   "execution_count": 53,
   "metadata": {},
   "outputs": [
    {
     "name": "stdout",
     "output_type": "stream",
     "text": [
      "30\n",
      "30\n",
      "True\n",
      "name\n",
      "country\n",
      "John\n",
      "USA\n",
      "name John\n",
      "country USA\n"
     ]
    }
   ],
   "source": [
    "## DICTIONARY\n",
    "# key are unique\n",
    "\n",
    "person = {\"name\": \"John\", \"age\": 30, \"city\": \"New York\"}\n",
    "print(person[\"age\"])\n",
    "\n",
    "person[\"country\"] = \"USA\" #add new key-value pair\n",
    "\n",
    "person.pop(\"city\") #remove key-value pair\n",
    "\n",
    "removed_value = person.pop(\"age\")  # Removes 'age' key and returns its value\n",
    "print(removed_value)  # 30\n",
    "\n",
    "print(\"name\" in person)  # Output: True  ->Checking if Key Exists\n",
    "\n",
    "# Iterate through keys\n",
    "for key in person:\n",
    "    print(key)\n",
    "\n",
    "# Iterate through values\n",
    "for value in person.values():\n",
    "    print(value)\n",
    "\n",
    "# Iterate through key-value pairs\n",
    "for key, value in person.items():\n",
    "    print(key, value)"
   ]
  },
  {
   "cell_type": "code",
   "execution_count": 54,
   "metadata": {},
   "outputs": [
    {
     "name": "stdout",
     "output_type": "stream",
     "text": [
      "y is greater\n"
     ]
    }
   ],
   "source": [
    "###  Conditional Expression\n",
    "# value_if_true if condition else value_if_false\n",
    "x = 10\n",
    "y = 20\n",
    "\n",
    "result = \"x is greater\" if x > y else \"y is greater\"\n",
    "print(result)  #  y is greater\n"
   ]
  },
  {
   "cell_type": "code",
   "execution_count": 60,
   "metadata": {},
   "outputs": [
    {
     "name": "stdout",
     "output_type": "stream",
     "text": [
      "apple\n",
      "banana\n",
      "cherry\n",
      "0\n",
      "1\n",
      "2\n",
      "3\n",
      "4\n",
      "y\n",
      "a\n",
      "d\n",
      "a\n",
      "v\n",
      "0\n",
      "1\n",
      "2\n",
      "3\n",
      "4\n",
      "0\n",
      "1\n",
      "2\n"
     ]
    }
   ],
   "source": [
    "### FOOR loop\n",
    "\n",
    "# 1.\n",
    "fruits = [\"apple\", \"banana\", \"cherry\"]\n",
    "for fruit in fruits:\n",
    "    print(fruit)\n",
    "\n",
    "# 2.\n",
    "for i in range(5):  # 0 to 4\n",
    "    print(i)\n",
    "\n",
    "# 3.\n",
    "s=\"yadav\"\n",
    "for a in s:\n",
    "    print(a)\n",
    "\n",
    "# 4.\n",
    "count = 0\n",
    "while count < 5:\n",
    "    print(count)\n",
    "    count += 1\n",
    "\n",
    "# 5.\n",
    "for i in range(5):\n",
    "    if i == 3:\n",
    "        break\n",
    "    print(i)"
   ]
  },
  {
   "cell_type": "code",
   "execution_count": null,
   "metadata": {},
   "outputs": [
    {
     "name": "stdout",
     "output_type": "stream",
     "text": [
      "34.0\n",
      "<class 'float'>\n"
     ]
    }
   ],
   "source": [
    "### Type Casting\n",
    "# Python is dynamically typed (you can convert one data type to another data type)\n",
    "# python always take input as a string\n",
    "\n",
    "# Integer\n",
    "num = int(input(\"Enter an integer: \"))\n",
    "print(num)\n",
    "\n",
    "# Float\n",
    "decimal = float(input(\"Enter a float: \"))\n",
    "print(decimal)\n",
    "print(type(decimal))  # <class 'float'>\n",
    "\n",
    "# take 2 number as a input \n",
    "a, b = input(\"Enter two numbers: \").split()\n",
    "print(a, b)\n"
   ]
  },
  {
   "cell_type": "code",
   "execution_count": null,
   "metadata": {},
   "outputs": [
    {
     "name": "stdout",
     "output_type": "stream",
     "text": [
      "i is 20\n"
     ]
    }
   ],
   "source": [
    "### if else condition\n",
    "\n",
    "# if condition1:\n",
    "#     # block executed if condition1 is True\n",
    "# elif condition2:\n",
    "#     # block executed if condition1 is False but condition2 is True\n",
    "# elif condition3:\n",
    "#     # block executed if condition1 is False but condition2 is True\n",
    "# else:\n",
    "#     # block executed if none of the above conditions is True\n",
    "\n",
    "# Example\n",
    "i = 20\n",
    "if i == 10:\n",
    "    print(\"i is 10\")\n",
    "elif i == 15:\n",
    "    print(\"i is 15\")\n",
    "elif i == 20:\n",
    "    print(\"i is 20\")\n",
    "else:\n",
    "    print(\"i is not present\")\n"
   ]
  },
  {
   "cell_type": "code",
   "execution_count": null,
   "metadata": {},
   "outputs": [
    {
     "name": "stdout",
     "output_type": "stream",
     "text": [
      "apple\n",
      "banana\n",
      "cherry\n",
      "h\n",
      "e\n",
      "l\n",
      "l\n",
      "o\n",
      "0\n",
      "1\n",
      "2\n",
      "3\n",
      "4\n",
      "skip 2\n",
      "1\n",
      "3\n",
      "5\n",
      "7\n",
      "9\n"
     ]
    }
   ],
   "source": [
    "### for loop\n",
    "\n",
    "fruits = [\"apple\", \"banana\", \"cherry\"]\n",
    "for i in fruits:\n",
    "    print(i)\n",
    "\n",
    "str1=\"hello\"\n",
    "for y in str1:\n",
    "    print(y)\n",
    "\n",
    "for i in range(5):  # from start to stop - 1.\n",
    "    print(i)\n",
    "\n",
    "print(\"skip 2\")\n",
    "for i in range(1, 10, 2):  # from 1 to 9 and skip 1\n",
    "    print(i)\n",
    "\n"
   ]
  },
  {
   "cell_type": "code",
   "execution_count": null,
   "metadata": {},
   "outputs": [
    {
     "name": "stdout",
     "output_type": "stream",
     "text": [
      "15\n"
     ]
    }
   ],
   "source": [
    "### Lambda function\n",
    "# It a small anonymous function . \n",
    "# It is a one line function\n",
    "add_10 = lambda x: x + 10\n",
    "print(add_10(5))  # Output: 15\n",
    "\n",
    "multiply = lambda a, b: a * b\n",
    "print(multiply(3, 4))  # Output: 12\n",
    "\n"
   ]
  }
 ],
 "metadata": {
  "kernelspec": {
   "display_name": "Python 3",
   "language": "python",
   "name": "python3"
  },
  "language_info": {
   "codemirror_mode": {
    "name": "ipython",
    "version": 3
   },
   "file_extension": ".py",
   "mimetype": "text/x-python",
   "name": "python",
   "nbconvert_exporter": "python",
   "pygments_lexer": "ipython3",
   "version": "3.12.1"
  }
 },
 "nbformat": 4,
 "nbformat_minor": 2
}
