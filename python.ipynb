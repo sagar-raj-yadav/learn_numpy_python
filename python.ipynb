{
 "cells": [
  {
   "cell_type": "code",
   "execution_count": null,
   "metadata": {},
   "outputs": [],
   "source": [
    "### Input and Output ###\n",
    "\n",
    "# 1. Multiple inputs in one line (space-separated)\n",
    "\n",
    "# Taking two numbers input in one line separated by space\n",
    "a, b = map(int, input(\"Enter two numbers separated by space: \").split())\n",
    "\n",
    "# Printing the sum of the two numbers\n",
    "print(\"Sum:\", a + b)\n",
    "\n",
    "# Explanation:\n",
    "# input() takes the whole line as a string.\n",
    "# .split() splits the input string by spaces into a list.\n",
    "# map(int, ...) converts each split string into an integer.\n",
    "# The two integers are unpacked into variables a and b.\n",
    "# Then, their sum is printed.\n",
    "\n",
    "\n",
    "# ------------------------------------------------------------\n",
    "\n",
    "\n",
    "# 2. Multiple inputs in multiple lines\n",
    "\n",
    "# Taking input of first number from user\n",
    "a = int(input(\"Enter first number: \"))\n",
    "\n",
    "# Taking input of second number from user\n",
    "b = int(input(\"Enter second number: \"))\n",
    "\n",
    "# Printing the sum of the two numbers\n",
    "print(\"Sum:\", a + b)\n",
    "\n",
    "# Explanation:\n",
    "# Each input() takes input from a separate line.\n",
    "# int() converts the input string to an integer.\n",
    "# Then, the sum is printed.\n",
    "\n",
    "\n",
    "# ------------------------------------------------------------\n",
    "\n",
    "\n",
    "# 3. Multiple inputs as a list (one line)\n",
    "\n",
    "# Taking multiple numbers in one line separated by space and storing in a list\n",
    "numbers = list(map(int, input(\"Enter numbers separated by space: \").split()))\n",
    "\n",
    "# Printing the list of numbers\n",
    "print(\"Numbers are:\", numbers)\n",
    "\n",
    "# Explanation:\n",
    "# input() takes the entire line.\n",
    "# .split() splits the string into parts separated by spaces.\n",
    "# map(int, ...) converts each to integer.\n",
    "# list() converts the map object to a list.\n",
    "# The list is printed.\n",
    "\n",
    "\n",
    "# ------------------------------------------------------------\n",
    "\n",
    "\n",
    "# 4. Taking multiple inputs using a loop (multiple lines)\n",
    "\n",
    "# Taking number of inputs user wants to enter\n",
    "n = int(input(\"How many numbers? \"))\n",
    "\n",
    "nums = []  # Create empty list to store numbers\n",
    "\n",
    "# Loop to take n inputs one by one\n",
    "for _ in range(n):\n",
    "    num = int(input())  # Input each number\n",
    "    nums.append(num)    # Add number to the list\n",
    "\n",
    "# Printing the list of numbers\n",
    "print(\"List of numbers:\", nums)\n",
    "\n",
    "# Explanation:\n",
    "# First input n defines how many times loop runs.\n",
    "# Each input is converted to int and appended to list.\n",
    "# Finally, the full list is printed.\n",
    "\n",
    "\n",
    "# ------------------------------------------------------------\n",
    "\n",
    "\n",
    "# 5. Multiple outputs in one print statement\n",
    "\n",
    "a, b = 5, 10  # Assigning values to variables\n",
    "\n",
    "# Printing multiple values separated by commas\n",
    "print(\"Numbers are:\", a, b)\n",
    "print(\"Sum:\", a + b, \"Product:\", a * b)\n",
    "\n",
    "# Explanation:\n",
    "# print() can take multiple values separated by commas.\n",
    "# It automatically separates them by spaces when printing.\n",
    "\n",
    "\n",
    "# ------------------------------------------------------------\n",
    "# Additional Input Types:\n",
    "\n",
    "# 1. Input as a List (one line, space separated)\n",
    "\n",
    "# Take input of multiple integers separated by space and store in a list\n",
    "lst = list(map(int, input(\"Enter list of numbers separated by space: \").split()))\n",
    "print(\"List:\", lst)\n",
    "\n",
    "# Explanation:\n",
    "# input() takes the entire line as string.\n",
    "# split() breaks it into parts separated by spaces.\n",
    "# map(int, ...) converts each part to int.\n",
    "# list() converts map object to list.\n",
    "\n",
    "\n",
    "# ------------------------------------------------------------\n",
    "\n",
    "\n",
    "# 2. Input as a Tuple (one line, space separated)\n",
    "\n",
    "# Take input of multiple integers separated by space and store in a tuple\n",
    "tup = tuple(map(int, input(\"Enter tuple of numbers separated by space: \").split()))\n",
    "print(\"Tuple:\", tup)\n",
    "\n",
    "# Explanation:\n",
    "# Same as list but converted to tuple using tuple().\n",
    "\n",
    "\n",
    "# ------------------------------------------------------------\n",
    "\n",
    "\n",
    "# 3. Input as a Set (one line, space separated)\n",
    "\n",
    "# Take input of multiple integers separated by space and store in a set\n",
    "st = set(map(int, input(\"Enter set of numbers separated by space: \").split()))\n",
    "print(\"Set:\", st)\n",
    "\n",
    "# Explanation:\n",
    "# Same as list but converted to set using set().\n",
    "# Set automatically removes duplicates.\n",
    "\n",
    "\n",
    "# ------------------------------------------------------------\n",
    "\n",
    "\n",
    "# 4. Input as a Dictionary (multiple lines)\n",
    "\n",
    "# Take dictionary input: first number of key-value pairs\n",
    "n = int(input(\"How many key-value pairs? \"))\n",
    "d = {}\n",
    "\n",
    "for _ in range(n):\n",
    "    # Input format: key and value separated by space\n",
    "    key, value = input(\"Enter key and value separated by space: \").split()\n",
    "    # You can convert value to int if needed; here keeping both as strings\n",
    "    d[key] = value\n",
    "\n",
    "print(\"Dictionary:\", d)\n",
    "\n",
    "# Explanation:\n",
    "# User enters number of pairs n.\n",
    "# For each pair, input key and value separated by space.\n",
    "# Add to dictionary d.\n",
    "\n",
    "\n",
    "# ------------------------------------------------------------\n",
    "\n",
    "\n",
    "# 5. Input multi-line string\n",
    "\n",
    "print(\"Enter multi-line string (type 'END' in a new line to stop):\")\n",
    "\n",
    "lines = []\n",
    "while True:\n",
    "    line = input()\n",
    "    if line == \"END\":\n",
    "        break\n",
    "    lines.append(line)\n",
    "\n",
    "multi_line_str = \"\\n\".join(lines)\n",
    "print(\"Multi-line string:\")\n",
    "print(multi_line_str)\n",
    "\n",
    "# Explanation:\n",
    "# Keep reading input line by line until user types 'END'.\n",
    "# Join all lines into a single string with newline characters.\n"
   ]
  },
  {
   "cell_type": "code",
   "execution_count": null,
   "metadata": {},
   "outputs": [],
   "source": [
    "### comment\n",
    "\"\"\"\n",
    "yaha multiline comment\n",
    "\"\"\"\n",
    "\n",
    "# single line comment"
   ]
  },
  {
   "cell_type": "code",
   "execution_count": null,
   "metadata": {},
   "outputs": [],
   "source": [
    "# negative index\n",
    "\"\"\"\n",
    "Normal flow of iteration is from start to end.\n",
    "Negative Index is used to iterate from end to start.\n",
    "\n",
    "\"\"\""
   ]
  },
  {
   "cell_type": "code",
   "execution_count": null,
   "metadata": {},
   "outputs": [],
   "source": [
    "### pass, break, and continue\n",
    "\"\"\"\n",
    "pass is used to fill empty blocks.\n",
    "In python,an empty block of code will give an error ,so pass is used to avoid it.\n",
    "\"\"\""
   ]
  },
  {
   "cell_type": "code",
   "execution_count": 5,
   "metadata": {},
   "outputs": [
    {
     "name": "stdout",
     "output_type": "stream",
     "text": [
      "i is 20\n"
     ]
    }
   ],
   "source": [
    "### if else condition\n",
    "\n",
    "# if condition1:\n",
    "#     # block executed if condition1 is True\n",
    "# elif condition2:\n",
    "#     # block executed if condition1 is False but condition2 is True\n",
    "# elif condition3:\n",
    "#     # block executed if condition1 is False but condition2 is True\n",
    "# else:\n",
    "#     # block executed if none of the above conditions is True\n",
    "\n",
    "# Example\n",
    "i = 20\n",
    "if i == 10:\n",
    "    print(\"i is 10\")\n",
    "elif i == 15:\n",
    "    print(\"i is 15\")\n",
    "elif i == 20:\n",
    "    print(\"i is 20\")\n",
    "else:\n",
    "    print(\"i is not present\")\n"
   ]
  },
  {
   "cell_type": "code",
   "execution_count": null,
   "metadata": {},
   "outputs": [
    {
     "name": "stdout",
     "output_type": "stream",
     "text": [
      "for loop in list \n",
      "apple\n",
      "banana\n",
      "cherry\n",
      "for loop in range\n",
      "0\n",
      "1\n",
      "2\n",
      "3\n",
      "4\n",
      "for loop in range with skip 2\n",
      "1\n",
      "3\n",
      "5\n",
      "7\n",
      "9\n",
      "for loop in string\n",
      "y\n",
      "a\n",
      "d\n",
      "a\n",
      "v\n",
      "while loop\n",
      "0\n",
      "1\n",
      "2\n",
      "3\n",
      "4\n"
     ]
    }
   ],
   "source": [
    "### FOOR loop\n",
    "\n",
    "# 1.\n",
    "print(\"for loop in list \")\n",
    "fruits = [\"apple\", \"banana\", \"cherry\"]\n",
    "for fruit in fruits:\n",
    "    print(fruit)\n",
    "\n",
    "# 2.\n",
    "print(\"for loop in range\")\n",
    "for i in range(5):  # 0 to 4\n",
    "    print(i)\n",
    "\n",
    "\n",
    "print(\"for loop in range with skip 2\")\n",
    "for i in range(1, 10, 2):  # from 1 to 9 and skip 1\n",
    "    print(i)\n",
    "\n",
    "\n",
    "# 3.\n",
    "print(\"for loop in string\")\n",
    "s=\"yadav\"\n",
    "for a in s:\n",
    "    print(a)\n",
    "\n",
    "# 4.\n",
    "print(\"while loop\")\n",
    "count = 0\n",
    "while count < 5:\n",
    "    print(count)\n",
    "    count += 1\n",
    "\n",
    "\n",
    "\n"
   ]
  },
  {
   "cell_type": "code",
   "execution_count": 15,
   "metadata": {},
   "outputs": [
    {
     "name": "stdout",
     "output_type": "stream",
     "text": [
      "4\n",
      "['orange', 34.6, False, 'watermelon', 'sagar']\n"
     ]
    }
   ],
   "source": [
    "## LIST\n",
    "#List Allow Duplicates, List can store different data types\n",
    "\n",
    "mylist = [\"apple\",13,False ,\"cherry\",34.6]\n",
    "len(mylist)\n",
    "mylist[1]=\"sagar\"   #['apple', 'sagar', False, 'cherry', 34.6]\n",
    "\n",
    "mylist.insert(2, \"watermelon\") #['apple', 'sagar', 'watermelon', False, 'cherry', 34.6]\n",
    "\n",
    "mylist.append(\"orange\") #add at end  -> ['apple', 'sagar', 'watermelon', False, 'cherry', 34.6, 'orange']\n",
    "\n",
    "mylist.remove(\"cherry\")  #['apple', 'sagar', 'watermelon', False, 34.6, 'orange']\n",
    "print(mylist.index(34.6))   # 4\n",
    "print (mylist.count(34.6))  #1  -> ist me kisi element ki occurrence count karta hai.\n",
    "\n",
    "mylist.pop(0)  #removes from specified index in list\n",
    "# mylist.sort()  #sort karne ke liye list me same data type hona chahiye \n",
    "#mylist.clear()  #remove all element from list\n",
    "mylist.reverse() #reverse the list\n",
    "print(mylist) # ['orange', 34.6, False, 'watermelon', 'sagar']"
   ]
  },
  {
   "cell_type": "code",
   "execution_count": 18,
   "metadata": {},
   "outputs": [
    {
     "name": "stdout",
     "output_type": "stream",
     "text": [
      "['apple', 'banana', 'cherry', 'kiwi']\n",
      "['kiwi', 'apple', 'banana', 'cherry']\n"
     ]
    }
   ],
   "source": [
    "#sorting\n",
    "#i.\n",
    "list2 = ['apple', 'banana', 'cherry', 'kiwi']\n",
    "list2.sort()  # Sorting based on ASCII value\n",
    "print(list2)  # Output: ['apple', 'banana', 'cherry', 'kiwi']\n",
    "\n",
    "#ii.\n",
    "list2.sort(key=len)  # Sorting based on string length\n",
    "print(list2)  # Output: ['kiwi', 'apple', 'banana', 'cherry']"
   ]
  },
  {
   "cell_type": "code",
   "execution_count": null,
   "metadata": {},
   "outputs": [
    {
     "name": "stdout",
     "output_type": "stream",
     "text": [
      "2\n",
      "1\n",
      "(2, 'yadav', False)\n",
      "True\n",
      "3\n",
      "1\n"
     ]
    }
   ],
   "source": [
    "## TUPLES\n",
    "# i.Ek baar tuple create hone ke baad, usme koi bhi changes nahi kiye ja sakte. \n",
    "# Aap elements ko modify, add, ya remove nahi kar sakte.\n",
    "# list uses square bracket [] and tuple uses braces ()\n",
    "# list are mutable and tuples,string,integer are immutable\n",
    "#same as LIST\n",
    "\n",
    "tuple1=(1,2,\"yadav\",False,4.2,1,3,1)\n",
    "print(tuple1[1])  # 2 ->1th index\n",
    "print(tuple1[-1]) #last se 0th index\n",
    "print(tuple1[1:4]) #[2,\"yadav\",False]\n",
    "\n",
    "print(4.2 in tuple1)  #  True  ->check if 4.2 exist in tuple1 or not\n",
    "\n",
    "print(tuple1.count(1)) # 3 ->count the occurrence of 1 in tuple1\n",
    "print(tuple1.index(2)) # 1 ->index of value 2 in tuple1"
   ]
  },
  {
   "cell_type": "code",
   "execution_count": 45,
   "metadata": {},
   "outputs": [
    {
     "name": "stdout",
     "output_type": "stream",
     "text": [
      "False\n",
      "{1, 34, 2, 6, 'b'}\n",
      "{1, 2, 3, 4, 5}\n",
      "{3}\n",
      "{1, 2}\n",
      "{1, 2, 4, 5}\n"
     ]
    }
   ],
   "source": [
    "## SET\n",
    "# unique elements , Sets mein elements ko index se access nahi kiya ja sakta,\n",
    "\n",
    "#same as LIST\n",
    "set3={1,34,5,\"b\",2}\n",
    "set3.add(6) #add  element at end  {1, 34, 2, 5, 6, 'b'}\n",
    "set3.remove(5)  # {1, 34, 2, 'b'}\n",
    "print(\"c\" in set3) # False\n",
    "\n",
    "print(set3)\n",
    "\n",
    "\n",
    "## union \n",
    "set1 = {1, 2, 3}\n",
    "set2 = {3, 4, 5}\n",
    "union_set = set1.union(set2)\n",
    "print(union_set)  # {1, 2, 3, 4, 5}\n",
    "\n",
    "#intersection\n",
    "intersection_set=set1.intersection(set2)\n",
    "print(intersection_set)  # {3}\n",
    "\n",
    "#set difference\n",
    "difference_set = set1 - set2\n",
    "print(difference_set)  # {1, 2}\n",
    "\n",
    "#symmetric difference\n",
    "sym_diff_set = set1.symmetric_difference(set2)\n",
    "print(sym_diff_set)  # {1, 2, 4, 5}"
   ]
  },
  {
   "cell_type": "code",
   "execution_count": 53,
   "metadata": {},
   "outputs": [
    {
     "name": "stdout",
     "output_type": "stream",
     "text": [
      "30\n",
      "30\n",
      "True\n",
      "name\n",
      "country\n",
      "John\n",
      "USA\n",
      "name John\n",
      "country USA\n"
     ]
    }
   ],
   "source": [
    "## DICTIONARY\n",
    "# key are unique\n",
    "\n",
    "person = {\"name\": \"John\", \"age\": 30, \"city\": \"New York\"}\n",
    "print(person[\"age\"])\n",
    "\n",
    "person[\"country\"] = \"USA\" #add new key-value pair\n",
    "\n",
    "person.pop(\"city\") #remove key-value pair\n",
    "\n",
    "removed_value = person.pop(\"age\")  # Removes 'age' key and returns its value\n",
    "print(removed_value)  # 30\n",
    "\n",
    "print(\"name\" in person)  # Output: True  ->Checking if Key Exists\n",
    "\n",
    "# Iterate through keys\n",
    "for key in person:\n",
    "    print(key)\n",
    "\n",
    "# Iterate through values\n",
    "for value in person.values():\n",
    "    print(value)\n",
    "\n",
    "# Iterate through key-value pairs\n",
    "for key, value in person.items():\n",
    "    print(key, value)"
   ]
  },
  {
   "cell_type": "code",
   "execution_count": null,
   "metadata": {},
   "outputs": [
    {
     "name": "stdout",
     "output_type": "stream",
     "text": [
      "[0, 1, 4, 9, 16]\n",
      "[2, 4, 6]\n"
     ]
    }
   ],
   "source": [
    "### List Comprehensions\n",
    "#    [expression for item in iterable if condition]\n",
    "\n",
    "# Example 1: Squares ki list banao 0 se 4 tak\n",
    "squares = [x**2 for x in range(5)]  # humne x**2 kiya har number x ke liye 0 se 4 tak\n",
    "print(squares)\n",
    "\n",
    "# squares -> this is a list\n",
    "\n",
    "# Example 2: List me se sirf even numbers lo\n",
    "nums = [1, 2, 3, 4, 5, 6]\n",
    "evens = [x for x in nums if x % 2 == 0]\n",
    "print(evens)\n"
   ]
  },
  {
   "cell_type": "code",
   "execution_count": 10,
   "metadata": {},
   "outputs": [
    {
     "name": "stdout",
     "output_type": "stream",
     "text": [
      "{0: 0, 1: 1, 2: 4, 3: 9, 4: 16}\n"
     ]
    }
   ],
   "source": [
    "### Dictionary Comprehension\n",
    "#    {key_expression: value_expression for item in iterable if condition}\n",
    "\n",
    "# Example1: Number ko key banao, aur uska square value\n",
    "squares_dict = {x: x**2 for x in range(5)}\n",
    "print(squares_dict)\n",
    "\n"
   ]
  },
  {
   "cell_type": "code",
   "execution_count": null,
   "metadata": {},
   "outputs": [
    {
     "name": "stdout",
     "output_type": "stream",
     "text": [
      "{16, 1, 4, 9}\n"
     ]
    }
   ],
   "source": [
    "### Set Comprehension\n",
    "# {expression for item in iterable if condition}\n",
    "\n",
    "# Example 1: Unique squares ka set banao\n",
    "nums = [1, 2, 2, 3, 4, 4]\n",
    "unique_squares = {x**2 for x in nums}\n",
    "print(unique_squares)\n",
    "\n",
    "# Yahan duplicate numbers ko ignore kiya gaya because set me unique hi hota hai.\n"
   ]
  },
  {
   "cell_type": "code",
   "execution_count": null,
   "metadata": {},
   "outputs": [
    {
     "name": "stdout",
     "output_type": "stream",
     "text": [
      "34.0\n",
      "<class 'float'>\n"
     ]
    }
   ],
   "source": [
    "### Type Casting\n",
    "# Python is dynamically typed and variable type is defined at run time\n",
    "# python always take input as a string\n",
    "\n",
    "# Integer\n",
    "num = int(input(\"Enter an integer: \"))\n",
    "print(num)\n",
    "\n",
    "# Float\n",
    "decimal = float(input(\"Enter a float: \"))\n",
    "print(decimal)\n",
    "print(type(decimal))  # <class 'float'>\n",
    "\n",
    "# for boolean -> bool()\n",
    "# for string -> str()\n",
    "\n",
    "\n",
    "# take 2 number as a input \n",
    "a, b = input(\"Enter two numbers: \").split()\n",
    "print(a, b)\n"
   ]
  },
  {
   "cell_type": "code",
   "execution_count": null,
   "metadata": {},
   "outputs": [
    {
     "name": "stdout",
     "output_type": "stream",
     "text": [
      "15\n"
     ]
    }
   ],
   "source": [
    "### Lambda function\n",
    "# It a small anonymous function . \n",
    "# It is a one line function\n",
    "add_10 = lambda x: x + 10\n",
    "print(add_10(5))  # Output: 15\n",
    "\n",
    "multiply = lambda a, b: a * b\n",
    "print(multiply(3, 4))  # Output: 12\n",
    "\n"
   ]
  },
  {
   "cell_type": "code",
   "execution_count": 1,
   "metadata": {},
   "outputs": [
    {
     "name": "stdout",
     "output_type": "stream",
     "text": [
      "[1, 4, 9, 16, 25]\n",
      "[2, 4, 6]\n",
      "120\n"
     ]
    }
   ],
   "source": [
    "### Higher-order Functions (map(), filter(), reduce())\n",
    "\n",
    "# 1. map()\n",
    "  # Function to square a number\n",
    "def square(x):\n",
    "    return x * x\n",
    "\n",
    "numbers = [1, 2, 3, 4, 5]\n",
    "\n",
    "# Apply square() to each element using map()\n",
    "squared = map(square, numbers)\n",
    "\n",
    "print(list(squared))  # Output: [1, 4, 9, 16, 25]\n",
    "\n",
    "\n",
    "# 2. filter()\n",
    "  # Function to check if a number is even\n",
    "def is_even(x):\n",
    "    return x % 2 == 0\n",
    "\n",
    "numbers = [1, 2, 3, 4, 5, 6]\n",
    "\n",
    "even_numbers = filter(is_even, numbers)\n",
    "print(list(even_numbers))  # Output: [2, 4, 6]\n",
    "\n",
    "# 3. reduce()\n",
    "from functools import reduce\n",
    "\n",
    "# Function to multiply two numbers\n",
    "def multiply(x, y):\n",
    "    return x * y\n",
    "\n",
    "numbers = [1, 2, 3, 4, 5]\n",
    "\n",
    "product = reduce(multiply, numbers)\n",
    "print(product)  # Output: 120 (1*2*3*4*5)\n",
    "\n",
    "\n",
    "\n",
    "  "
   ]
  },
  {
   "cell_type": "code",
   "execution_count": null,
   "metadata": {},
   "outputs": [
    {
     "name": "stdout",
     "output_type": "stream",
     "text": [
      "this is default\n",
      "sagar\n",
      "23\n",
      "sagar\n"
     ]
    },
    {
     "data": {
      "text/plain": [
       "'\\n3. __init__ method -> Special method called when object is created. Used to initialize attributes.\\n'"
      ]
     },
     "execution_count": 16,
     "metadata": {},
     "output_type": "execute_result"
    }
   ],
   "source": [
    "### class and object\n",
    "\n",
    "# creating class\n",
    "class Car:\n",
    "    def __init__(self):\n",
    "        print(\"this is default\")\n",
    "    \n",
    "    def func1(self,name,age):\n",
    "        self.name=name\n",
    "        self.age=age\n",
    "    \n",
    "    def func2(self):\n",
    "        print(self.name)\n",
    "        print(self.age)\n",
    "\n",
    "\n",
    "# creating object\n",
    "car1=Car()\n",
    "car1.func1(\"sagar\",23)\n",
    "car1.func2()\n",
    "\n",
    "print(car1.name)\n",
    "\n",
    "\n",
    "\n",
    "\"\"\"\n",
    "1. we can pass parameter in __init__\n",
    "class Car:\n",
    "    def __init__(self,name,age):\n",
    "        self.name=name\n",
    "        self.age=age\n",
    "    \n",
    "    def func2(self):\n",
    "        print(self.name)\n",
    "        print(self.age)\n",
    "\n",
    "\n",
    "car1=Car(\"sagar\",23)\n",
    "car1.func2()\n",
    "\"\"\"\n",
    "\n",
    "\n",
    "\"\"\"\n",
    "2. class ke andar haar method me self by default pass karna h\n",
    "\"\"\"\n",
    "\n",
    "\"\"\"\n",
    "3. __init__ method -> Special method called when object is created. Used to initialize attributes.\n",
    "\"\"\""
   ]
  },
  {
   "cell_type": "code",
   "execution_count": null,
   "metadata": {},
   "outputs": [
    {
     "name": "stdout",
     "output_type": "stream",
     "text": [
      "[12, 1, 2, 34]\n",
      "[12, 1, 2, 34]\n"
     ]
    }
   ],
   "source": [
    "### copy an object\n",
    "\n",
    "# deep copy (dono save memeory pe exist karta h)\n",
    "a=[12,1,2]\n",
    "b=a\n",
    "b.append(34)\n",
    "print(a)\n",
    "print(b)\n"
   ]
  },
  {
   "cell_type": "markdown",
   "metadata": {},
   "source": []
  },
  {
   "cell_type": "code",
   "execution_count": null,
   "metadata": {},
   "outputs": [],
   "source": [
    "### Encapsulation\n",
    "\n",
    "# Public: accessible anywhere (self.name)\n",
    "# Protected: private to class and subclasses (self._name)\n",
    "# Private: strongly private, name mangled (self.__name)\n"
   ]
  },
  {
   "cell_type": "code",
   "execution_count": 18,
   "metadata": {},
   "outputs": [
    {
     "name": "stdout",
     "output_type": "stream",
     "text": [
      "Dog barks\n",
      "Animal speaks\n"
     ]
    }
   ],
   "source": [
    "### Inheritance\n",
    "class Animal:\n",
    "    def speak1(self):\n",
    "        print(\"Animal speaks\")\n",
    "\n",
    "class Dog(Animal):  # Dog inherits Animal\n",
    "    def speak(self):\n",
    "        print(\"Dog barks\")\n",
    "\n",
    "d = Dog()\n",
    "d.speak()  # Dog barks\n",
    "\n",
    "d.speak1()  # Animal speaks\n",
    "\n",
    "\n"
   ]
  },
  {
   "cell_type": "code",
   "execution_count": 23,
   "metadata": {},
   "outputs": [
    {
     "name": "stdout",
     "output_type": "stream",
     "text": [
      "Dog barks\n",
      "Animal makes sound\n"
     ]
    }
   ],
   "source": [
    "### Polymorphism\n",
    "\"\"\"Aapke paas do ya zyada classes hain, jinke andar same naam ka function/method hota hai, \n",
    "lekin har class mein wo method alag kaam karta hai.\"\"\"\n",
    "\n",
    "class Animal:\n",
    "    def speak(self):\n",
    "        print(\"Animal makes sound\")\n",
    "\n",
    "class Dog():\n",
    "    def speak(self):\n",
    "        print(\"Dog barks\")\n",
    "\n",
    "\n",
    "\n",
    "dog = Dog()\n",
    "animal = Animal()\n",
    "\n",
    "dog.speak()\n",
    "animal.speak()\n",
    "\n",
    "\n"
   ]
  },
  {
   "cell_type": "code",
   "execution_count": 14,
   "metadata": {},
   "outputs": [
    {
     "name": "stdout",
     "output_type": "stream",
     "text": [
      "Alice\n",
      "30\n",
      "5000\n"
     ]
    }
   ],
   "source": [
    "# Run python code :-\n",
    "# python filename.py\n",
    "# python is dynamically typed , You don't have to declare the data type\n",
    "\n",
    "class Person:\n",
    "    def __init__(self, name):\n",
    "        self.name = name       # public\n",
    "        self._age = 30         # protected\n",
    "        self.__salary = 5000   # private\n",
    "        \n",
    "\n",
    "p = Person(\"Alice\")\n",
    "print(p.name)      # Alice\n",
    "print(p._age)      # 30 (accessible but meant to be protected)\n",
    "#print(p.__salary)  # Error! Private attribute\n",
    "print(p._Person__salary)  # 5000 (name mangled way to access)\n",
    "\n"
   ]
  },
  {
   "cell_type": "code",
   "execution_count": null,
   "metadata": {},
   "outputs": [
    {
     "name": "stdout",
     "output_type": "stream",
     "text": [
      "aga\n"
     ]
    }
   ],
   "source": [
    "# slicing in string\n",
    "name=\"sagaryadav\"\n",
    "print(name[1:4]) # start from inde 1 to index 3  \n",
    "\n",
    "# string_name[start_index:last_index-1]  -> slicing"
   ]
  },
  {
   "cell_type": "code",
   "execution_count": 8,
   "metadata": {},
   "outputs": [
    {
     "name": "stdout",
     "output_type": "stream",
     "text": [
      "this is args:-\n",
      "1\n",
      "2\n",
      "3\n",
      "4\n",
      "this is kargs:-\n",
      "name:sagar\n",
      "age:2\n"
     ]
    }
   ],
   "source": [
    "### args and kwargs\n",
    "\"\"\"\"\n",
    "args - allows you to pass a any number of parameter and It collect these parameter into tuple.\n",
    "\n",
    "kargs - allows you to pass a any number of parameter and It collect these parameter into dictionary.\n",
    "\"\"\"\n",
    "\n",
    "print(\"this is args:-\")\n",
    "def func1(*args):\n",
    "    for x in args:\n",
    "        print(x)\n",
    "\n",
    "func1(1,2,3,4)\n",
    "\n",
    "print(\"this is kargs:-\")\n",
    "def func1(**kargs):\n",
    "    for key,value in kargs.items():\n",
    "        print(f\"{key}:{value}\")\n",
    "\n",
    "func1(name=\"sagar\",age=2)\n"
   ]
  },
  {
   "cell_type": "code",
   "execution_count": 12,
   "metadata": {},
   "outputs": [
    {
     "name": "stdout",
     "output_type": "stream",
     "text": [
      "Pass by Reference\n",
      "[10, 20, 30, 40]\n",
      "Pass by Value\n",
      "[1, 2, 3, 4]\n",
      "[1, 2, 3]\n"
     ]
    }
   ],
   "source": [
    "### Pass by Reference and Pass by Value\n",
    "# Pass by Reference - ye original ko bhi change karta h (deafult behaviour)\n",
    "# Pass by Value - ye original ko changes nhi karta h\n",
    "\n",
    "\n",
    "# Pass by Reference\n",
    "print(\"Pass by Reference\")\n",
    "\n",
    "def modify_list(lst):\n",
    "    lst.append(40)  # original list change hogi\n",
    "\n",
    "my_list = [10, 20, 30 ]\n",
    "modify_list(my_list)\n",
    "print(my_list)  # Output: [10, 20, 30, 40]\n",
    "\n",
    "\n",
    "\n",
    "# Pass by Value\n",
    "print(\"Pass by Value\")\n",
    "\n",
    "def modify_list(lst):\n",
    "    lst.append(4)  # sirf copy change hogi\n",
    "    print(lst)   # Output: [1, 2, 3,4]\n",
    "\n",
    "my_list = [1, 2, 3]\n",
    "modify_list(my_list.copy())  # copy pass ki\n",
    "print(my_list)  # Output: [1, 2, 3]\n",
    "\n",
    "\n"
   ]
  },
  {
   "cell_type": "code",
   "execution_count": null,
   "metadata": {},
   "outputs": [],
   "source": [
    "### Exception Handling (try , except ,finally)\n",
    "\"\"\"\n",
    "except - for error handling\n",
    "finally hamesha run karega\n",
    "\"\"\"\n",
    "\n",
    "try:\n",
    "    # Code that might raise an exception\n",
    "    num = int(input(\"Enter a number: \"))\n",
    "    result = 10 / num\n",
    "    print(\"Result is:\", result)\n",
    "\n",
    "except ZeroDivisionError:\n",
    "    print(\"Error: You cannot divide by zero!\")\n",
    "\n",
    "except ValueError:\n",
    "    print(\"Error: Please enter a valid integer!\")\n",
    "\n",
    "finally:\n",
    "    print(\"This block always runs, whether an exception occurred or not.\")\n"
   ]
  },
  {
   "cell_type": "code",
   "execution_count": null,
   "metadata": {},
   "outputs": [],
   "source": [
    "### generators and decorators\n"
   ]
  }
 ],
 "metadata": {
  "kernelspec": {
   "display_name": "Python 3",
   "language": "python",
   "name": "python3"
  },
  "language_info": {
   "codemirror_mode": {
    "name": "ipython",
    "version": 3
   },
   "file_extension": ".py",
   "mimetype": "text/x-python",
   "name": "python",
   "nbconvert_exporter": "python",
   "pygments_lexer": "ipython3",
   "version": "3.12.1"
  }
 },
 "nbformat": 4,
 "nbformat_minor": 2
}
