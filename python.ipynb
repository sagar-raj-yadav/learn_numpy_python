## LIST
#List Allow Duplicates, List can store different data types

mylist = ["apple",13,False ,"cherry",34.6]
len(mylist)
mylist[1]="sagar"   #['apple', 'sagar', False, 'cherry', 34.6]

mylist.insert(2, "watermelon") #['apple', 'sagar', 'watermelon', False, 'cherry', 34.6]

mylist.append("orange") #add at end  -> ['apple', 'sagar', 'watermelon', False, 'cherry', 34.6, 'orange']

mylist.remove("cherry")  #['apple', 'sagar', 'watermelon', False, 34.6, 'orange']
print(mylist.index(34.6))   # 4
print (mylist.count(34.6))  #1  -> ist me kisi element ki occurrence count karta hai.

mylist.pop(0)  #removes from specified index in list
# mylist.sort()  #sort karne ke liye list me same data type hona chahiye 
#mylist.clear()  #remove all element from list
mylist.reverse() #reverse the list
print(mylist) # ['orange', 34.6, False, 'watermelon', 'sagar']
#sorting
#i.
list2 = ['apple', 'banana', 'cherry', 'kiwi']
list2.sort()  # Sorting based on ASCII value
print(list2)  # Output: ['apple', 'banana', 'cherry', 'kiwi']

#ii.
list2.sort(key=len)  # Sorting based on string length
print(list2)  # Output: ['kiwi', 'apple', 'banana', 'cherry']
## TUPLES
# i.Ek baar tuple create hone ke baad, usme koi bhi changes nahi kiye ja sakte. 
# Aap elements ko modify, add, ya remove nahi kar sakte.

#same as LIST

tuple1=(1,2,"yadav",False,4.2,1,3,1)
print(tuple1[1])  # 2 ->1th index
print(tuple1[-1]) #last se 0th index
print(tuple1[1:4]) #[2,"yadav",False]

print(4.2 in tuple1)  #  True  ->check if 4.2 exist in tuple1 or not

print(tuple1.count(1)) # 3 ->count the occurrence of 1 in tuple1
print(tuple1.index(2)) # 1 ->index of value 2 in tuple1
## SET
# unique elements , Sets mein elements ko index se access nahi kiya ja sakta,

#same as LIST
set3={1,34,5,"b",2}
set3.add(6) #add  element at end  {1, 34, 2, 5, 6, 'b'}
set3.remove(5)  # {1, 34, 2, 'b'}
print("c" in set3) # False

print(set3)


## union 
set1 = {1, 2, 3}
set2 = {3, 4, 5}
union_set = set1.union(set2)
print(union_set)  # {1, 2, 3, 4, 5}

#intersection
intersection_set=set1.intersection(set2)
print(intersection_set)  # {3}

#set difference
difference_set = set1 - set2
print(difference_set)  # {1, 2}

#symmetric difference
sym_diff_set = set1.symmetric_difference(set2)
print(sym_diff_set)  # {1, 2, 4, 5}
## DICTIONARY
# key are unique

person = {"name": "John", "age": 30, "city": "New York"}
print(person["age"])

person["country"] = "USA" #add new key-value pair

person.pop("city") #remove key-value pair

removed_value = person.pop("age")  # Removes 'age' key and returns its value
print(removed_value)  # 30

print("name" in person)  # Output: True  ->Checking if Key Exists

# Iterate through keys
for key in person:
    print(key)

# Iterate through values
for value in person.values():
    print(value)

# Iterate through key-value pairs
for key, value in person.items():
    print(key, value)
###  Conditional Expression
# value_if_true if condition else value_if_false
x = 10
y = 20

result = "x is greater" if x > y else "y is greater"
print(result)  #  y is greater

### FOOR loop

# 1.
fruits = ["apple", "banana", "cherry"]
for fruit in fruits:
    print(fruit)

# 2.
for i in range(5):  # 0 to 4
    print(i)

# 3.
s="yadav"
for a in s:
    print(a)

# 4.
count = 0
while count < 5:
    print(count)
    count += 1

# 5.
for i in range(5):
    if i == 3:
        break
    print(i)
### Type Casting
# Python is dynamically typed (you can convert one data type to another data type)
# python always take input as a string

# Integer
num = int(input("Enter an integer: "))
print(num)

# Float
decimal = float(input("Enter a float: "))
print(decimal)
print(type(decimal))  # <class 'float'>

# take 2 number as a input 
a, b = input("Enter two numbers: ").split()
print(a, b)

### if else condition

# if condition1:
#     # block executed if condition1 is True
# elif condition2:
#     # block executed if condition1 is False but condition2 is True
# elif condition3:
#     # block executed if condition1 is False but condition2 is True
# else:
#     # block executed if none of the above conditions is True

# Example
i = 20
if i == 10:
    print("i is 10")
elif i == 15:
    print("i is 15")
elif i == 20:
    print("i is 20")
else:
    print("i is not present")

### for loop

fruits = ["apple", "banana", "cherry"]
for i in fruits:
    print(i)

str1="hello"
for y in str1:
    print(y)

for i in range(5):  # from start to stop - 1.
    print(i)

print("skip 2")
for i in range(1, 10, 2):  # from 1 to 9 and skip 1
    print(i)


### Lambda function
# It a small anonymous function . 
# It is a one line function
add_10 = lambda x: x + 10
print(add_10(5))  # Output: 15

multiply = lambda a, b: a * b
print(multiply(3, 4))  # Output: 12

