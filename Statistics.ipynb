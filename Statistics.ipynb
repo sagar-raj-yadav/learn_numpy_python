{
 "cells": [
  {
   "cell_type": "markdown",
   "id": "76afa0b8",
   "metadata": {},
   "source": [
    "1. Introduction to Statistics"
   ]
  },
  {
   "cell_type": "code",
   "execution_count": null,
   "id": "c9a6405c",
   "metadata": {},
   "outputs": [],
   "source": [
    "\n",
    "### Define statistics\n",
    "# used to extract meaningful information \n",
    "   # Ex:- Agar school me students ke marks ka data hai, to statistics se hum jaan sakte hain average \n",
    "   # marks kitne hain, kitne students fail hue, etc.\n",
    "\n",
    "\n",
    "### Types of Statistics :-\n",
    "     # a. Descriptive\n",
    "  \n",
    "\n",
    "    # a. Inferential\n",
    "\n",
    "\n",
    "\n",
    "### Population vs Sample\n",
    "    # a. Population : Jis poori group ke baare me hum study kar rahe hain.\n",
    "        # Ex: Poore India ke students.\n",
    "   \n",
    "    # b. Sample : Population ka chhota hissa jise study ke liye select kiya gaya ho.\n",
    "        # Ex: Sirf 500 students jo randomly select kiye gaye ho.\n",
    "\n",
    "\n",
    "### Variables: Qualitative and Quantitative\n",
    "    # Variable wo hota hai jo change hota rahta hai\n",
    "    \n",
    "    # (a) Qualitative (Categorical) Variable:\n",
    "       #  Ye quality ya category batata hai, number nahi.\n",
    "       #  Example: Gender (Male/Female), Blood group (A, B, O, AB)\n",
    "\n",
    "    # (b) Quantitative Variable:\n",
    "       # Ye numbers me hota hai, jise measure kiya ja sakta hai.\n",
    "       # Example: Height, Weight, Age, Marks\n",
    "\n",
    "\n",
    "### Scales of Measurement\n"
   ]
  },
  {
   "cell_type": "markdown",
   "id": "4168e3a9",
   "metadata": {},
   "source": [
    "2. Data Collection and Presentation"
   ]
  },
  {
   "cell_type": "markdown",
   "id": "9a043917",
   "metadata": {},
   "source": [
    "Methods of Data Collection\n",
    "(a) Survey\n",
    "\n",
    "Survey me logon se directly information li jaati hai — questionnaire ya interview ke zariye.\n",
    "🔹 Example: Ek company customers se poochti hai “Aapko hamara product kaisa laga?”"
   ]
  }
 ],
 "metadata": {
  "language_info": {
   "name": "python"
  }
 },
 "nbformat": 4,
 "nbformat_minor": 5
}
