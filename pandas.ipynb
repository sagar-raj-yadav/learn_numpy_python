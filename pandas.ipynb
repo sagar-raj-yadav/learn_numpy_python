{
 "cells": [
  {
   "cell_type": "code",
   "execution_count": null,
   "metadata": {},
   "outputs": [],
   "source": []
  },
  {
   "cell_type": "markdown",
   "metadata": {},
   "source": [
    "->pandas has functions used  for analyzing, cleaning, exploring, and manipulating data.\n",
    "\n",
    "# cleaning Data\n",
    "->Data cleaning involves removing irrelevant rows, handling empty or NULL values , identifying outliers, and eliminating duplicates to improve data quality.\n",
    "\n",
    "## Cleaning Empty Cells\n",
    "#i."
   ]
  }
 ],
 "metadata": {
  "language_info": {
   "name": "python"
  }
 },
 "nbformat": 4,
 "nbformat_minor": 2
}
