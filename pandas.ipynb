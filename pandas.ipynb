{
 "cells": [
  {
   "cell_type": "markdown",
   "metadata": {},
   "source": [
    "-> pandas is a library for data manipulation , data analysis , data cleaning .\n",
    "# cleaning Data\n",
    "->Data cleaning involves removing irrelevant rows, handling empty or NULL values , identifying outliers, and eliminating duplicates to improve data quality.\n",
    "# Cleaning Empty Cells\n",
    "i.Removing Rows with Empty Cells\n",
    "new_df = df.dropna()  # Returns a new DataFrame without modifying the original  \n",
    "df.dropna(inplace=True)  # Modifies the original DataFrame \n",
    "\n",
    "ii.Replacing Empty Values\n",
    "df.fillna(130, inplace=True)  # Replaces all empty cells with 130  \n",
    "df[\"Calories\"].fillna(130, inplace=True)  # Replaces empty values only in the \"Calories\" column  \n",
    "\n",
    "iii. Replacing with Mean, Median, or Mode\n",
    "x = df[\"Calories\"].mean()  \n",
    "df[\"Calories\"].fillna(x, inplace=True)  # Replaces empty values with the mean  \n",
    "\n",
    "x = df[\"Calories\"].median()  \n",
    "df[\"Calories\"].fillna(x, inplace=True)  # Replaces empty values with the median  \n",
    "\n",
    "x = df[\"Calories\"].mode()[0]  # Mode may return multiple values, so we select the first one  \n",
    "df[\"Calories\"].fillna(x, inplace=True)  # Replaces empty values with the mode  \n",
    "\n",
    "# Removing Duplicates\n",
    "i.check for duplicate rows in the dataset\n",
    "print(df.duplicated())  # Returns True for duplicate rows, otherwise False  \n",
    "ii.Removing Duplicate Rows from the DataFrame\n",
    "df.drop_duplicates(inplace=True)  \n",
    "\n",
    "# why we use pandas?\n",
    "i. Data Cleaning , Preprocessing and Transformation\n",
    "ii. Exploratory Data Analysis (EDA)\n",
    "iii. Visualization\n",
    "iv. pandas can Handle large dataset \n",
    "v. Missing data ko handle karna.\n",
    "vi. Data ko filter aur slice karna.\n",
    "vii. Data ko merge aur group karna\n"
   ]
  },
  {
   "cell_type": "code",
   "execution_count": 4,
   "metadata": {},
   "outputs": [
    {
     "name": "stdout",
     "output_type": "stream",
     "text": [
      "a    10\n",
      "b    20\n",
      "c    40\n",
      "d    50\n",
      "dtype: int64\n",
      "b= 20\n"
     ]
    }
   ],
   "source": [
    "#series 1-D Array\n",
    "import pandas as pd\n",
    "data=pd.Series([10,20,40,50] , index=['a','b','c','d'])\n",
    "print(data)\n",
    "print(\"b=\",data['b'])"
   ]
  },
  {
   "cell_type": "code",
   "execution_count": null,
   "metadata": {},
   "outputs": [
    {
     "name": "stdout",
     "output_type": "stream",
     "text": [
      "  Name  Age  salary\n",
      "1    A   20     207\n",
      "2    B   40     406\n",
      "3    C   26     265\n",
      "4    D   18     148\n"
     ]
    }
   ],
   "source": [
    "# DataFrame (2-D Array)\n",
    "# i.using dataframe\n",
    "import pandas as pd\n",
    "\n",
    "data={'Name':[\"A\",\"B\",\"C\",\"D\"] , 'Age':[20,40,26,18],'salary':[207,406,265,148]}\n",
    "index=[1,2,3,4]\n",
    "df=pd.DataFrame(data,index)\n",
    "print(df)\n",
    "\n",
    "# ii.using csv\n",
    "df=pd.read_csv(r'C:\\Users\\sagar\\Desktop\\dataset.csv')\n",
    "df.head() #first 5 row\n",
    "\n",
    "# iii.using Excel ( pip install openpyxl )\n",
    "df=pd.read_excel(r'C:\\Users\\sagar\\Desktop\\AmazonSales.xlsx')\n",
    "\n",
    "# Note:  agar jis folder me mera code ka file hai ussi folder me csv file to directly name likh dena.\n",
    "#          [  df=pd.read_csv(r‘AmazonSaleReport.csv’)   ]"
   ]
  },
  {
   "cell_type": "code",
   "execution_count": null,
   "metadata": {},
   "outputs": [
    {
     "name": "stdout",
     "output_type": "stream",
     "text": [
      "<class 'pandas.core.frame.DataFrame'>\n",
      "Index: 4 entries, 1 to 4\n",
      "Data columns (total 3 columns):\n",
      " #   Column  Non-Null Count  Dtype \n",
      "---  ------  --------------  ----- \n",
      " 0   Name    4 non-null      object\n",
      " 1   Age     4 non-null      int64 \n",
      " 2   salary  4 non-null      int64 \n",
      "dtypes: int64(2), object(1)\n",
      "memory usage: 128.0+ bytes\n"
     ]
    },
    {
     "ename": "TypeError",
     "evalue": "'tuple' object is not callable",
     "output_type": "error",
     "traceback": [
      "\u001b[1;31m---------------------------------------------------------------------------\u001b[0m",
      "\u001b[1;31mTypeError\u001b[0m                                 Traceback (most recent call last)",
      "Cell \u001b[1;32mIn[10], line 6\u001b[0m\n\u001b[0;32m      4\u001b[0m df\u001b[38;5;241m.\u001b[39minfo()\n\u001b[0;32m      5\u001b[0m df\u001b[38;5;241m.\u001b[39mdescribe()\n\u001b[1;32m----> 6\u001b[0m \u001b[43mdf\u001b[49m\u001b[38;5;241;43m.\u001b[39;49m\u001b[43mshape\u001b[49m\u001b[43m(\u001b[49m\u001b[43m)\u001b[49m\n\u001b[0;32m      7\u001b[0m df\u001b[38;5;241m.\u001b[39mdrop([\u001b[38;5;124m'\u001b[39m\u001b[38;5;124mcolumn_\u001b[39m\u001b[38;5;124m'\u001b[39m])\n",
      "\u001b[1;31mTypeError\u001b[0m: 'tuple' object is not callable"
     ]
    }
   ],
   "source": [
    "# Methods in pandas\n",
    "df.head()\n",
    "df.tail()\n",
    "df.info() # details like non-null , data_types\n",
    "df.describe() #summary like count ,mean,standard deviation,min,max,25%,50%\n",
    "df.shape() #number of rows and column\n",
    "df.drop(['column_name'],axis=1,inplace=True) # delete that column\n",
    "                                             # (inpalce=True means,main file me bhi changes hoga)\n",
    "df.isnull() # show null values ( True ->null False ->not null )\n",
    "df.isnull().sum() # show count of null values\n",
    "df.dropna() # delete rows with null values\n",
    "df.dropna(thresh=2) # delete rows with 2 or more null values\n",
    "df.fillna(45) # fill null values with some value(i.e, fill with 45)\n",
    "df.isna() #check for missing values in the dataFrame\n",
    "df.sort_values('column_name') #sort DataFrame based on the values in the specified column\n",
    "df.merge(df1,df2,on='common_column_name') # merge 2 dataframe based on common column \n",
    "df.rename(columns={'old_name':'new_name'}) \n",
    "df['column_name'].astype('int') #convert datatype of a column to integer\n",
    "df.to_csv('filename.csv') #export dataframe to csv\n",
    "df.to_csv('filename.xlsx') #export dataframe to excel\n"
   ]
  },
  {
   "cell_type": "code",
   "execution_count": null,
   "metadata": {},
   "outputs": [],
   "source": [
    "# Handling duplicate values\n",
    "df.duplicated()\n",
    "df.drop_duplicates()\n",
    "df.drop_duplicates(subset=['EEID'],inplace=True) #remove duplicates based on specific columns"
   ]
  },
  {
   "cell_type": "code",
   "execution_count": null,
   "metadata": {},
   "outputs": [],
   "source": [
    "# column Transformation\n",
    "import pandas as pd\n",
    "df=pd.read_csv(r'C:\\Users\\sagar\\Desktop\\learn python\\dataset.csv')\n",
    "df['A']=df['A']*2  # column 'A' ka sabhi values ko 2 se multiple karna\n",
    "df['C']=df['A'].str.upper()+\" \"+df['B'].str.upper()  # column 'C' new column hai ,column C me column A and B ke value ko add kr do,\n",
    "                                                    # and column 'A' and 'B' uppercase me hoga and \" \" ->bich me space ke liye also use \"str.capitalize()\"\n",
    "df['B']=df['B'].replace(5,60)  #column 'B' me 5 ko replace 60  kar do\n",
    "df['D']=df['A'].apply(lambda x:'High' if x>4 else 'low') # D new column h,and agar column A me value 5 se jyada h to 'High' else 'low'\n",
    "\n",
    "# A and B is my column name jo mere excel me present h. C and D new column h. "
   ]
  },
  {
   "cell_type": "code",
   "execution_count": 5,
   "metadata": {},
   "outputs": [
    {
     "name": "stdout",
     "output_type": "stream",
     "text": [
      "  department  Gender\n",
      "0    Finance  113000\n",
      "1         HR   82000\n",
      "2         IT  180000\n"
     ]
    }
   ],
   "source": [
    "# Group By\n",
    "import pandas as pd\n",
    "\n",
    "data = {\n",
    "    'department': ['IT', 'HR', 'IT', 'Finance', 'HR', 'Finance', 'IT'],\n",
    "    'Gender': [50000, 40000, 60000, 55000, 42000, 58000, 70000]\n",
    "}\n",
    "\n",
    "df = pd.DataFrame(data)\n",
    "\n",
    "# Group by department and sum salary\n",
    "result = df.groupby('department')['Gender'].sum().reset_index()\n",
    "\n",
    "# sum ke jagah mean() , max() , count() bhi likh sakte h\n",
    "# reset_index() ->agar ye nhi likhe to series return karega .but hume dataframe return karna h \n",
    "print(result)\n"
   ]
  },
  {
   "cell_type": "code",
   "execution_count": null,
   "metadata": {},
   "outputs": [],
   "source": [
    "# merge , concatenate in pandas\n"
   ]
  }
 ],
 "metadata": {
  "kernelspec": {
   "display_name": "Python 3",
   "language": "python",
   "name": "python3"
  },
  "language_info": {
   "codemirror_mode": {
    "name": "ipython",
    "version": 3
   },
   "file_extension": ".py",
   "mimetype": "text/x-python",
   "name": "python",
   "nbconvert_exporter": "python",
   "pygments_lexer": "ipython3",
   "version": "3.13.1"
  }
 },
 "nbformat": 4,
 "nbformat_minor": 2
}
